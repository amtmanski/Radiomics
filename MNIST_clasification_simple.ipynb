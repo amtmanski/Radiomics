{
 "cells": [
  {
   "cell_type": "code",
   "execution_count": 117,
   "metadata": {},
   "outputs": [],
   "source": [
    "import time\n",
    "import scipy.io\n",
    "import numpy as np\n",
    "import random\n",
    "import matplotlib.pyplot as plt\n",
    "from sklearn.preprocessing import StandardScaler\n",
    "import torch \n",
    "import torch.nn as nn\n",
    "import torch.nn.functional as F\n",
    "import torch.optim as optim\n",
    "from torch.utils.data.dataloader import DataLoader\n",
    "from torch.autograd import Variable"
   ]
  },
  {
   "cell_type": "code",
   "execution_count": 2,
   "metadata": {},
   "outputs": [],
   "source": [
    "mnist = scipy.io.loadmat('mnist_all.mat')"
   ]
  },
  {
   "cell_type": "markdown",
   "metadata": {},
   "source": [
    "mnist"
   ]
  },
  {
   "cell_type": "code",
   "execution_count": 4,
   "metadata": {},
   "outputs": [],
   "source": [
    "%matplotlib inline"
   ]
  },
  {
   "cell_type": "code",
   "execution_count": 118,
   "metadata": {},
   "outputs": [
    {
     "data": {
      "image/png": "[encoded data removed]",
      "text/plain": [
       "<Figure size 1080x360 with 3 Axes>"
      ]
     },
     "metadata": {
      "needs_background": "light"
     },
     "output_type": "display_data"
    }
   ],
   "source": [
    "fig, ax = plt.subplots(1, 3, figsize = (15, 5))\n",
    "\n",
    "ax[0].matshow(mnist['train0'][random.randint(0,1000)].reshape(28,28), cmap=plt.cm.gray_r)\n",
    "ax[1].matshow(mnist['train9'][109].reshape(28,28), cmap=plt.cm.gray_r)\n",
    "ax[2].matshow(mnist['train8'][200].reshape(28,28), cmap=plt.cm.gray_r)\n",
    "plt.subplots_adjust(wspace = 0, hspace = 0) #odleglosc obrazkow od siebie"
   ]
  },
  {
   "cell_type": "code",
   "execution_count": 77,
   "metadata": {},
   "outputs": [],
   "source": [
    "def parse_mnist(filename = 'mnist_all.mat', n_cut_train = 1000, n_cut_test = 500, transform = True):\n",
    "    file = scipy.io.loadmat(filename)\n",
    "    \n",
    "    train_data = np.zeros((10, n_cut_train, 784))\n",
    "    train_label = np.zeros((10, n_cut_train))\n",
    "    test_data = np.zeros((10, n_cut_test, 784))\n",
    "    test_label = np.zeros((10, n_cut_test))\n",
    "    \n",
    "    for i in range(10):\n",
    "        name_train = 'train' + str(i)\n",
    "        name_test = 'test' + str(i)\n",
    "        train_data[i] = file[name_train][:n_cut_train]\n",
    "        train_label[i].fill(i)   \n",
    "        test_data[i] = file[name_test][:n_cut_test]\n",
    "        test_label[i].fill(i)\n",
    "\n",
    "    train_data = train_data.reshape(-1, 784)\n",
    "    train_label = train_label.reshape(-1)\n",
    "    test_data = test_data.reshape(-1, 784)\n",
    "    test_label = test_label.reshape(-1)\n",
    "\n",
    "    if transform:\n",
    "        train_data = train_data/255.0\n",
    "        test_data = test_data/255.0\n",
    "        \n",
    "    train_data = list(zip(torch.from_numpy(np.float32(train_data)), torch.from_numpy(np.int64(train_label))))\n",
    "    test_data = list(zip(torch.from_numpy(np.float32(test_data)), torch.from_numpy(np.int64(test_label))))\n",
    "    \n",
    "    return train_data, test_data"
   ]
  },
  {
   "cell_type": "code",
   "execution_count": 78,
   "metadata": {},
   "outputs": [],
   "source": [
    "train_data, test_data = parse_mnist(transform=True)"
   ]
  },
  {
   "cell_type": "code",
   "execution_count": 79,
   "metadata": {},
   "outputs": [],
   "source": [
    "batch_size = 64"
   ]
  },
  {
   "cell_type": "code",
   "execution_count": 80,
   "metadata": {},
   "outputs": [],
   "source": [
    "train_data_loader = torch.utils.data.DataLoader(train_data, batch_size=batch_size)\n",
    "val_data_loader = torch.utils.data.DataLoader(test_data, batch_size = batch_size)"
   ]
  },
  {
   "cell_type": "code",
   "execution_count": 81,
   "metadata": {},
   "outputs": [],
   "source": [
    "class SimpleNet(nn.Module):\n",
    "\n",
    "    def __init__(self):\n",
    "        super(SimpleNet, self).__init__()\n",
    "        self.fc1 = nn.Linear(784, 256)\n",
    "        self.fc2 = nn.Linear(256, 256)\n",
    "        self.fc3 = nn.Linear(256,10)\n",
    "    \n",
    "    def forward(self, x):\n",
    "        x = x.view(-1, 784)\n",
    "        x = F.relu(self.fc1(x))\n",
    "        x = F.relu(self.fc2(x))\n",
    "        x = self.fc3(x)\n",
    "        return x"
   ]
  },
  {
   "cell_type": "code",
   "execution_count": 82,
   "metadata": {},
   "outputs": [],
   "source": [
    "simplenet = SimpleNet()"
   ]
  },
  {
   "cell_type": "code",
   "execution_count": 83,
   "metadata": {},
   "outputs": [],
   "source": [
    "optimizer = torch.optim.Adam(simplenet.parameters(), lr=0.001)"
   ]
  },
  {
   "cell_type": "code",
   "execution_count": 84,
   "metadata": {},
   "outputs": [
    {
     "data": {
      "text/plain": [
       "SimpleNet(\n",
       "  (fc1): Linear(in_features=784, out_features=256, bias=True)\n",
       "  (fc2): Linear(in_features=256, out_features=256, bias=True)\n",
       "  (fc3): Linear(in_features=256, out_features=10, bias=True)\n",
       ")"
      ]
     },
     "execution_count": 84,
     "metadata": {},
     "output_type": "execute_result"
    }
   ],
   "source": [
    "if torch.cuda.is_available():\n",
    "    device = torch.device(\"cuda\") \n",
    "else:\n",
    "    device = torch.device(\"cpu\")\n",
    "\n",
    "simplenet.to(device)"
   ]
  },
  {
   "cell_type": "code",
   "execution_count": 85,
   "metadata": {},
   "outputs": [],
   "source": [
    "def train(model, optimizer, loss_fn, train_loader, val_loader, epochs=20, device=\"cpu\"):\n",
    "    for epoch in range(epochs):\n",
    "        training_loss = 0.0\n",
    "        valid_loss = 0.0\n",
    "        model.train()\n",
    "        for batch in train_loader:\n",
    "            optimizer.zero_grad()\n",
    "            inputs, targets = batch\n",
    "            inputs = inputs.to(device)\n",
    "            targets = targets.to(device)\n",
    "            output = model(inputs)\n",
    "            loss = loss_fn(output, targets)\n",
    "            loss.backward()\n",
    "            optimizer.step()\n",
    "            training_loss += loss.data.item() * inputs.size(0)\n",
    "        training_loss /= len(train_loader.dataset)\n",
    "        \n",
    "        model.eval()\n",
    "        num_correct = 0 \n",
    "        num_examples = 0\n",
    "        for batch in val_loader:\n",
    "            inputs, targets = batch\n",
    "            inputs = inputs.to(device)\n",
    "            output = model(inputs)\n",
    "            targets = targets.to(device)\n",
    "            loss = loss_fn(output,targets) \n",
    "            valid_loss += loss.data.item() * inputs.size(0)\n",
    "            correct = torch.eq(torch.max(F.softmax(output, dim=1), dim=1)[1], targets).view(-1)\n",
    "            num_correct += torch.sum(correct).item()\n",
    "            num_examples += correct.shape[0]\n",
    "        valid_loss /= len(val_loader.dataset)\n",
    "\n",
    "        print('Epoch: {}, Training Loss: {:.2f}, Validation Loss: {:.2f}, accuracy = {:.2f}'.format(epoch, training_loss,\n",
    "        valid_loss, num_correct / num_examples))"
   ]
  },
  {
   "cell_type": "code",
   "execution_count": 88,
   "metadata": {},
   "outputs": [
    {
     "name": "stdout",
     "output_type": "stream",
     "text": [
      "Epoch: 0, Training Loss: 0.67, Validation Loss: 1.03, accuracy = 0.68\n",
      "Epoch: 1, Training Loss: 0.45, Validation Loss: 1.76, accuracy = 0.57\n",
      "Epoch: 2, Training Loss: 0.61, Validation Loss: 1.03, accuracy = 0.70\n",
      "Epoch: 3, Training Loss: 0.53, Validation Loss: 0.64, accuracy = 0.79\n",
      "Epoch: 4, Training Loss: 0.44, Validation Loss: 0.53, accuracy = 0.83\n",
      "Epoch: 5, Training Loss: 0.39, Validation Loss: 0.46, accuracy = 0.86\n",
      "Epoch: 6, Training Loss: 0.33, Validation Loss: 0.52, accuracy = 0.84\n",
      "Epoch: 7, Training Loss: 0.31, Validation Loss: 0.43, accuracy = 0.87\n",
      "Epoch: 8, Training Loss: 0.29, Validation Loss: 0.43, accuracy = 0.87\n",
      "Epoch: 9, Training Loss: 0.26, Validation Loss: 0.42, accuracy = 0.87\n",
      "Epoch: 10, Training Loss: 0.24, Validation Loss: 0.40, accuracy = 0.88\n",
      "Epoch: 11, Training Loss: 0.22, Validation Loss: 0.40, accuracy = 0.89\n",
      "Epoch: 12, Training Loss: 0.20, Validation Loss: 0.39, accuracy = 0.88\n",
      "Epoch: 13, Training Loss: 0.19, Validation Loss: 0.39, accuracy = 0.89\n",
      "Epoch: 14, Training Loss: 0.17, Validation Loss: 0.38, accuracy = 0.89\n",
      "Epoch: 15, Training Loss: 0.16, Validation Loss: 0.38, accuracy = 0.89\n",
      "Epoch: 16, Training Loss: 0.15, Validation Loss: 0.38, accuracy = 0.89\n",
      "Epoch: 17, Training Loss: 0.13, Validation Loss: 0.37, accuracy = 0.90\n",
      "Epoch: 18, Training Loss: 0.12, Validation Loss: 0.37, accuracy = 0.90\n",
      "Epoch: 19, Training Loss: 0.11, Validation Loss: 0.37, accuracy = 0.90\n",
      "Epoch: 20, Training Loss: 0.10, Validation Loss: 0.36, accuracy = 0.91\n",
      "Epoch: 21, Training Loss: 0.09, Validation Loss: 0.36, accuracy = 0.91\n",
      "Epoch: 22, Training Loss: 0.08, Validation Loss: 0.36, accuracy = 0.91\n",
      "Epoch: 23, Training Loss: 0.07, Validation Loss: 0.34, accuracy = 0.92\n",
      "Epoch: 24, Training Loss: 0.07, Validation Loss: 0.35, accuracy = 0.92\n",
      "Epoch: 25, Training Loss: 0.06, Validation Loss: 0.34, accuracy = 0.92\n",
      "Epoch: 26, Training Loss: 0.05, Validation Loss: 0.34, accuracy = 0.93\n",
      "Epoch: 27, Training Loss: 0.04, Validation Loss: 0.33, accuracy = 0.93\n",
      "Epoch: 28, Training Loss: 0.04, Validation Loss: 0.33, accuracy = 0.93\n",
      "Epoch: 29, Training Loss: 0.03, Validation Loss: 0.33, accuracy = 0.93\n",
      "Epoch: 30, Training Loss: 0.02, Validation Loss: 0.32, accuracy = 0.94\n",
      "Epoch: 31, Training Loss: 0.02, Validation Loss: 0.33, accuracy = 0.94\n",
      "Epoch: 32, Training Loss: 0.02, Validation Loss: 0.33, accuracy = 0.94\n",
      "Epoch: 33, Training Loss: 0.01, Validation Loss: 0.33, accuracy = 0.94\n",
      "Epoch: 34, Training Loss: 0.01, Validation Loss: 0.33, accuracy = 0.94\n",
      "Epoch: 35, Training Loss: 0.01, Validation Loss: 0.34, accuracy = 0.94\n",
      "Epoch: 36, Training Loss: 0.01, Validation Loss: 0.34, accuracy = 0.94\n",
      "Epoch: 37, Training Loss: 0.00, Validation Loss: 0.35, accuracy = 0.94\n",
      "Epoch: 38, Training Loss: 0.00, Validation Loss: 0.35, accuracy = 0.94\n",
      "Epoch: 39, Training Loss: 0.00, Validation Loss: 0.35, accuracy = 0.94\n",
      "Epoch: 40, Training Loss: 0.00, Validation Loss: 0.36, accuracy = 0.94\n",
      "Epoch: 41, Training Loss: 0.00, Validation Loss: 0.36, accuracy = 0.94\n",
      "Epoch: 42, Training Loss: 0.00, Validation Loss: 0.36, accuracy = 0.94\n",
      "Epoch: 43, Training Loss: 0.00, Validation Loss: 0.37, accuracy = 0.94\n",
      "Epoch: 44, Training Loss: 0.00, Validation Loss: 0.37, accuracy = 0.94\n",
      "Epoch: 45, Training Loss: 0.00, Validation Loss: 0.37, accuracy = 0.94\n",
      "Epoch: 46, Training Loss: 0.00, Validation Loss: 0.38, accuracy = 0.94\n",
      "Epoch: 47, Training Loss: 0.00, Validation Loss: 0.38, accuracy = 0.94\n",
      "Epoch: 48, Training Loss: 0.00, Validation Loss: 0.38, accuracy = 0.94\n",
      "Epoch: 49, Training Loss: 0.00, Validation Loss: 0.39, accuracy = 0.94\n",
      "Epoch: 50, Training Loss: 0.00, Validation Loss: 0.39, accuracy = 0.94\n",
      "Epoch: 51, Training Loss: 0.00, Validation Loss: 0.39, accuracy = 0.94\n",
      "Epoch: 52, Training Loss: 0.00, Validation Loss: 0.40, accuracy = 0.94\n",
      "Epoch: 53, Training Loss: 0.00, Validation Loss: 0.40, accuracy = 0.94\n",
      "Epoch: 54, Training Loss: 0.00, Validation Loss: 0.40, accuracy = 0.94\n",
      "Epoch: 55, Training Loss: 0.00, Validation Loss: 0.41, accuracy = 0.94\n",
      "Epoch: 56, Training Loss: 0.00, Validation Loss: 0.41, accuracy = 0.94\n",
      "Epoch: 57, Training Loss: 0.00, Validation Loss: 0.41, accuracy = 0.94\n",
      "Epoch: 58, Training Loss: 0.00, Validation Loss: 0.41, accuracy = 0.94\n",
      "Epoch: 59, Training Loss: 0.00, Validation Loss: 0.42, accuracy = 0.94\n",
      "Epoch: 60, Training Loss: 0.00, Validation Loss: 0.42, accuracy = 0.94\n",
      "Epoch: 61, Training Loss: 0.00, Validation Loss: 0.42, accuracy = 0.94\n",
      "Epoch: 62, Training Loss: 0.00, Validation Loss: 0.43, accuracy = 0.94\n",
      "Epoch: 63, Training Loss: 0.00, Validation Loss: 0.43, accuracy = 0.94\n",
      "Epoch: 64, Training Loss: 0.00, Validation Loss: 0.43, accuracy = 0.94\n",
      "Epoch: 65, Training Loss: 0.00, Validation Loss: 0.43, accuracy = 0.94\n",
      "Epoch: 66, Training Loss: 0.00, Validation Loss: 0.44, accuracy = 0.94\n",
      "Epoch: 67, Training Loss: 0.00, Validation Loss: 0.44, accuracy = 0.94\n",
      "Epoch: 68, Training Loss: 0.00, Validation Loss: 0.44, accuracy = 0.94\n",
      "Epoch: 69, Training Loss: 0.00, Validation Loss: 0.44, accuracy = 0.94\n",
      "Epoch: 70, Training Loss: 0.00, Validation Loss: 0.45, accuracy = 0.95\n",
      "Epoch: 71, Training Loss: 0.00, Validation Loss: 0.45, accuracy = 0.94\n",
      "Epoch: 72, Training Loss: 0.00, Validation Loss: 0.45, accuracy = 0.94\n",
      "Epoch: 73, Training Loss: 0.00, Validation Loss: 0.46, accuracy = 0.95\n",
      "Epoch: 74, Training Loss: 0.00, Validation Loss: 0.46, accuracy = 0.95\n",
      "Epoch: 75, Training Loss: 0.00, Validation Loss: 0.46, accuracy = 0.95\n",
      "Epoch: 76, Training Loss: 0.00, Validation Loss: 0.46, accuracy = 0.95\n",
      "Epoch: 77, Training Loss: 0.00, Validation Loss: 0.47, accuracy = 0.95\n",
      "Epoch: 78, Training Loss: 0.00, Validation Loss: 0.47, accuracy = 0.95\n",
      "Epoch: 79, Training Loss: 0.00, Validation Loss: 0.47, accuracy = 0.95\n",
      "Epoch: 80, Training Loss: 0.00, Validation Loss: 0.47, accuracy = 0.95\n",
      "Epoch: 81, Training Loss: 0.00, Validation Loss: 0.48, accuracy = 0.95\n",
      "Epoch: 82, Training Loss: 0.00, Validation Loss: 0.48, accuracy = 0.95\n",
      "Epoch: 83, Training Loss: 0.00, Validation Loss: 0.48, accuracy = 0.95\n",
      "Epoch: 84, Training Loss: 0.00, Validation Loss: 0.48, accuracy = 0.95\n",
      "Epoch: 85, Training Loss: 0.00, Validation Loss: 0.49, accuracy = 0.95\n",
      "Epoch: 86, Training Loss: 0.00, Validation Loss: 0.49, accuracy = 0.94\n",
      "Epoch: 87, Training Loss: 0.00, Validation Loss: 0.49, accuracy = 0.95\n",
      "Epoch: 88, Training Loss: 0.00, Validation Loss: 0.49, accuracy = 0.95\n",
      "Epoch: 89, Training Loss: 0.00, Validation Loss: 0.50, accuracy = 0.95\n",
      "Epoch: 90, Training Loss: 0.00, Validation Loss: 0.50, accuracy = 0.95\n",
      "Epoch: 91, Training Loss: 0.00, Validation Loss: 0.50, accuracy = 0.95\n",
      "Epoch: 92, Training Loss: 0.00, Validation Loss: 0.50, accuracy = 0.95\n",
      "Epoch: 93, Training Loss: 0.00, Validation Loss: 0.51, accuracy = 0.95\n",
      "Epoch: 94, Training Loss: 0.00, Validation Loss: 0.51, accuracy = 0.95\n",
      "Epoch: 95, Training Loss: 0.00, Validation Loss: 0.51, accuracy = 0.95\n",
      "Epoch: 96, Training Loss: 0.00, Validation Loss: 0.51, accuracy = 0.95\n",
      "Epoch: 97, Training Loss: 0.00, Validation Loss: 0.52, accuracy = 0.95\n",
      "Epoch: 98, Training Loss: 0.00, Validation Loss: 0.52, accuracy = 0.94\n",
      "Epoch: 99, Training Loss: 0.00, Validation Loss: 0.52, accuracy = 0.95\n"
     ]
    }
   ],
   "source": [
    "train(simplenet, optimizer,torch.nn.CrossEntropyLoss(), train_data_loader,val_data_loader, epochs=100, device=device)"
   ]
  },
  {
   "cell_type": "code",
   "execution_count": 229,
   "metadata": {},
   "outputs": [
    {
     "name": "stdout",
     "output_type": "stream",
     "text": [
      "It is four with 100.0000% certainty\n"
     ]
    },
    {
     "data": {
      "image/png": "[encoded data removed]",
      "text/plain": [
       "<Figure size 432x288 with 1 Axes>"
      ]
     },
     "metadata": {
      "needs_background": "light"
     },
     "output_type": "display_data"
    },
    {
     "name": "stdout",
     "output_type": "stream",
     "text": [
      "It is six with 100.0000% certainty\n"
     ]
    },
    {
     "data": {
      "image/png": "[encoded data removed]",
      "text/plain": [
       "<Figure size 432x288 with 1 Axes>"
      ]
     },
     "metadata": {
      "needs_background": "light"
     },
     "output_type": "display_data"
    },
    {
     "name": "stdout",
     "output_type": "stream",
     "text": [
      "It is seven with 100.0000% certainty\n"
     ]
    },
    {
     "data": {
      "image/png": "[encoded data removed]",
      "text/plain": [
       "<Figure size 432x288 with 1 Axes>"
      ]
     },
     "metadata": {
      "needs_background": "light"
     },
     "output_type": "display_data"
    },
    {
     "name": "stdout",
     "output_type": "stream",
     "text": [
      "It is six with 88.5770% certainty\n"
     ]
    },
    {
     "data": {
      "image/png": "[encoded data removed]",
      "text/plain": [
       "<Figure size 432x288 with 1 Axes>"
      ]
     },
     "metadata": {
      "needs_background": "light"
     },
     "output_type": "display_data"
    },
    {
     "name": "stdout",
     "output_type": "stream",
     "text": [
      "It is six with 100.0000% certainty\n"
     ]
    },
    {
     "data": {
      "image/png": "[encoded data removed]",
      "text/plain": [
       "<Figure size 432x288 with 1 Axes>"
      ]
     },
     "metadata": {
      "needs_background": "light"
     },
     "output_type": "display_data"
    },
    {
     "name": "stdout",
     "output_type": "stream",
     "text": [
      "It is six with 99.9693% certainty\n"
     ]
    },
    {
     "data": {
      "image/png": "[encoded data removed]",
      "text/plain": [
       "<Figure size 432x288 with 1 Axes>"
      ]
     },
     "metadata": {
      "needs_background": "light"
     },
     "output_type": "display_data"
    },
    {
     "name": "stdout",
     "output_type": "stream",
     "text": [
      "It is five with 100.0000% certainty\n"
     ]
    },
    {
     "data": {
      "image/png": "[encoded data removed]",
      "text/plain": [
       "<Figure size 432x288 with 1 Axes>"
      ]
     },
     "metadata": {
      "needs_background": "light"
     },
     "output_type": "display_data"
    },
    {
     "name": "stdout",
     "output_type": "stream",
     "text": [
      "It is four with 100.0000% certainty\n"
     ]
    },
    {
     "data": {
      "image/png": "[encoded data removed]",
      "text/plain": [
       "<Figure size 432x288 with 1 Axes>"
      ]
     },
     "metadata": {
      "needs_background": "light"
     },
     "output_type": "display_data"
    },
    {
     "name": "stdout",
     "output_type": "stream",
     "text": [
      "It is four with 99.8259% certainty\n"
     ]
    },
    {
     "data": {
      "image/png": "[encoded data removed]",
      "text/plain": [
       "<Figure size 432x288 with 1 Axes>"
      ]
     },
     "metadata": {
      "needs_background": "light"
     },
     "output_type": "display_data"
    },
    {
     "name": "stdout",
     "output_type": "stream",
     "text": [
      "It is seven with 100.0000% certainty\n"
     ]
    },
    {
     "data": {
      "image/png": "[encoded data removed]",
      "text/plain": [
       "<Figure size 432x288 with 1 Axes>"
      ]
     },
     "metadata": {
      "needs_background": "light"
     },
     "output_type": "display_data"
    }
   ],
   "source": [
    "labels = ['zero','one', 'two', 'three', 'four', 'five', 'six', 'seven', 'eight',  'nine']\n",
    "for i in range(10):\n",
    "    element = test_data[random.randint(0,5000)][0]\n",
    "    tensor_image = element.view((28,28))\n",
    "    plt.imshow(tensor_image, cmap = plt.cm.gray_r)\n",
    "\n",
    "    prediction = F.softmax(simplenet(element), dim=1)\n",
    "    prediction_l = prediction.argmax()\n",
    "    print('It is {} with {:.4f}% certainty'.format(labels[prediction_l], prediction.max()*100))\n",
    "    plt.show()"
   ]
  },
  {
   "cell_type": "code",
   "execution_count": null,
   "metadata": {},
   "outputs": [],
   "source": []
  },
  {
   "cell_type": "code",
   "execution_count": null,
   "metadata": {},
   "outputs": [],
   "source": []
  }
 ],
 "metadata": {
  "kernelspec": {
   "display_name": "Python 3",
   "language": "python",
   "name": "python3"
  },
  "language_info": {
   "codemirror_mode": {
    "name": "ipython",
    "version": 3
   },
   "file_extension": ".py",
   "mimetype": "text/x-python",
   "name": "python",
   "nbconvert_exporter": "python",
   "pygments_lexer": "ipython3",
   "version": "3.7.7"
  }
 },
 "nbformat": 4,
 "nbformat_minor": 4
}
